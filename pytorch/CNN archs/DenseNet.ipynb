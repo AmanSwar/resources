{
 "cells": [
  {
   "cell_type": "code",
   "execution_count": 1,
   "metadata": {},
   "outputs": [],
   "source": [
    "import torch \n",
    "import torch.nn as nn\n",
    "import torch.nn.functional as F"
   ]
  },
  {
   "cell_type": "code",
   "execution_count": 2,
   "metadata": {},
   "outputs": [],
   "source": [
    "class BasicBlock(nn.Module):\n",
    "\n",
    "    def __init__(self, in_f , out_f , dropRate = 0.0):\n",
    "\n",
    "        super(BasicBlock , self).__init__()\n",
    "\n",
    "        self.bn1 = nn.BatchNorm2d(in_f)\n",
    "        # inplace ==> if false it creates a new tensor and performs batch nrom on that if True it performs batch nomr the given tensor\n",
    "        self.a1 = nn.ReLU(inplace=True)\n",
    "        self.conv1 = nn.Conv2d(in_channels=in_f , out_channels=out_f , kernel_size=3 , stride=1 , padding=1 , bias=False)\n",
    "        self.droprate = dropRate\n",
    "\n",
    "\n",
    "    def forward(self , x):\n",
    "\n",
    "        out = self.conv1(self.a1(self.bn1(x)))\n",
    "\n",
    "        if self.droprate > 0:\n",
    "            out = F.dropout(out , p=self.droprate , training=self.training)\n",
    "\n",
    "        return torch.cat([x , out] , 1)\n",
    "    \n"
   ]
  },
  {
   "cell_type": "code",
   "execution_count": 4,
   "metadata": {},
   "outputs": [],
   "source": [
    "class BottleNeck(nn.Module):\n",
    "\n",
    "    def __init__(self , in_f , out_f , dropRate = 0.0):\n",
    "        super(BottleNeck , self).__init__()\n",
    "        inter_f = out_f * 4\n",
    "        self.bn1 = nn.BatchNorm2d(in_f)\n",
    "        self.relu = nn.ReLU(inplace=True)\n",
    "        self.conv1 = nn.Conv2d(in_f, inter_f, kernel_size=1, stride=1,\n",
    "                               padding=0, bias=False)\n",
    "        \n",
    "\n",
    "        self.bn2 = nn.BatchNorm2d(inter_f)\n",
    "        self.conv2 = nn.Conv2d(inter_f, out_f, kernel_size=3, stride=1,\n",
    "                               padding=1, bias=False)\n",
    "        self.droprate = dropRate\n",
    "\n",
    "    def forward(self , x):\n",
    "\n",
    "        out = self.conv1(self.relu(self.bn1(x)))\n",
    "        if self.droprate > 0:\n",
    "            out = F.dropout(out, p=self.droprate, inplace=False, training=self.training)\n",
    "\n",
    "        out = self.conv2(self.relu(self.bn2(out)))\n",
    "\n",
    "        if self.droprate > 0:\n",
    "            out = F.dropout(out, p=self.droprate, inplace=False, training=self.training)\n",
    "\n",
    "        return torch.cat([x , out] , 1)\n",
    "    \n",
    "\n",
    "\n",
    "\n",
    "\n",
    "        \n",
    "\n",
    "        "
   ]
  },
  {
   "cell_type": "code",
   "execution_count": 5,
   "metadata": {},
   "outputs": [],
   "source": [
    "class TransitionBlock(nn.Module):\n",
    "\n",
    "    def __init__(self , in_f , out_f , dropRate=0.0):\n",
    "\n",
    "        super(TransitionBlock  , self).__init__()\n",
    "\n",
    "        self.bn1 = nn.BatchNorm2d(in_f)\n",
    "        self.relu = nn.ReLU(inplace=True)\n",
    "        self.conv1 = nn.Conv2d(in_f , out_f , kernel_size=1 , stride=1 , padding=0 , bias=False)\n",
    "        self.droprate = dropRate\n",
    "\n",
    "\n",
    "    def forward(self , x):\n",
    "\n",
    "        out = self.conv1(self.relu(self.bn1(x)))\n",
    "\n",
    "        if self.droprate > 0:\n",
    "\n",
    "            out = F.dropout(out , p=self.droprate , inplace=False , training=self.training)\n",
    "\n",
    "        return F.avg_pool2d(out , 2)\n",
    "    \n"
   ]
  },
  {
   "cell_type": "code",
   "execution_count": null,
   "metadata": {},
   "outputs": [],
   "source": [
    "self.DenseBlock"
   ]
  }
 ],
 "metadata": {
  "kernelspec": {
   "display_name": "base",
   "language": "python",
   "name": "python3"
  },
  "language_info": {
   "codemirror_mode": {
    "name": "ipython",
    "version": 3
   },
   "file_extension": ".py",
   "mimetype": "text/x-python",
   "name": "python",
   "nbconvert_exporter": "python",
   "pygments_lexer": "ipython3",
   "version": "3.11.5"
  }
 },
 "nbformat": 4,
 "nbformat_minor": 2
}
